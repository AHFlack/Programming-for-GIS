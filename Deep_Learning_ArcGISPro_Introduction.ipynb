{
 "cells": [
  {
   "cell_type": "markdown",
   "metadata": {},
   "source": [
    "# Assignment 08\n",
    "## Addison Flack\n",
    "### Deep Learning"
   ]
  },
  {
   "cell_type": "markdown",
   "metadata": {},
   "source": [
    "---\n",
    "\n",
    "### Imports:\n"
   ]
  },
  {
   "cell_type": "code",
   "execution_count": 2,
   "metadata": {},
   "outputs": [],
   "source": [
    "import numpy as np\n",
    "import arcpy\n",
    "from arcgis.gis import GIS\n",
    "import numpy as np\n",
    "import matplotlib.pyplot as plt\n",
    "import seaborn\n",
    "import pandas as pd\n",
    "from arcgis.features import GeoAccessor, GeoSeriesAccessor"
   ]
  },
  {
   "cell_type": "code",
   "execution_count": 3,
   "metadata": {},
   "outputs": [],
   "source": [
    "gis = GIS()\n",
    "arcpy.env.overwriteOutput = True"
   ]
  },
  {
   "cell_type": "markdown",
   "metadata": {},
   "source": [
    "### Exporting Training Data for Deep Learning (Image Chips)"
   ]
  },
  {
   "cell_type": "code",
   "execution_count": 4,
   "metadata": {},
   "outputs": [],
   "source": [
    "with arcpy.EnvManager(cellSize=\"5b1b6fb2-5024-4681-a175-9b667174f48c.tif\"):\n",
    "    arcpy.ia.ExportTrainingDataForDeepLearning(\n",
    "        in_raster=\"5b1b6fb2-5024-4681-a175-9b667174f48c.tif\",\n",
    "        out_folder=r\"D:\\Users\\aflack\\Prog_for_GIS_Assignment08\\Palm_Tree_Detection\\Kolovai\\imagechips\",\n",
    "        in_class_data=\"PalmTraining\",\n",
    "        image_chip_format=\"JPEG\",\n",
    "        tile_size_x=448,\n",
    "        tile_size_y=448,\n",
    "        stride_x=128,\n",
    "        stride_y=128,\n",
    "        output_nofeature_tiles=\"ONLY_TILES_WITH_FEATURES\",\n",
    "        metadata_format=\"PASCAL_VOC_rectangles\",\n",
    "        start_index=0,\n",
    "        class_value_field=\"Classvalue\",\n",
    "        buffer_radius=0,\n",
    "        in_mask_polygons=None,\n",
    "        rotation_angle=0,\n",
    "        reference_system=\"MAP_SPACE\",\n",
    "        processing_mode=\"PROCESS_AS_MOSAICKED_IMAGE\",\n",
    "        blacken_around_feature=\"NO_BLACKEN\",\n",
    "        crop_mode=\"FIXED_SIZE\",\n",
    "        in_raster2=None,\n",
    "        in_instance_data=None,\n",
    "        instance_class_value_field=None,\n",
    "        min_polygon_overlap_ratio=0\n",
    "    )"
   ]
  },
  {
   "cell_type": "markdown",
   "metadata": {},
   "source": [
    "### Training the Deep Learning Model"
   ]
  },
  {
   "cell_type": "code",
   "execution_count": 1,
   "metadata": {},
   "outputs": [
    {
     "name": "stdout",
     "output_type": "stream",
     "text": [
      "epoch     train_loss  valid_loss  average_precision  time    \n",
      "0         51.267014   56.545658   0.325367           02:07     \n",
      "1         47.485737   54.776711   0.351344           02:01     \n",
      "2         45.387470   54.390320   0.403974           02:01     \n",
      "3         46.863964   53.289280   0.386566           01:59     \n",
      "4         44.040192   51.733196   0.433169           02:01     \n",
      "5         41.142342   51.266590   0.379536           02:01     \n",
      "6         43.121300   50.169334   0.456854           01:59     \n",
      "7         38.991478   48.976582   0.426959           02:00     \n",
      "8         39.569672   46.887211   0.453131           01:59     \n",
      "9         39.804722   46.776257   0.457265           01:59     \n",
      "10        39.098370   44.551880   0.527326           02:00     \n",
      "11        38.265942   44.331921   0.520812           02:00     \n",
      "12        36.971897   43.981525   0.524389           01:59     \n",
      "13        36.011009   43.851364   0.496725           02:00     \n",
      "14        35.398724   43.845001   0.510039           01:59     \n",
      "15        34.748741   41.496029   0.538737           02:00     \n",
      "16        35.600277   41.885323   0.550447           01:59     \n",
      "17        35.063324   41.934307   0.506510           01:59     \n",
      "18        35.797588   40.222622   0.566962           01:59     \n",
      "19        37.031235   40.436279   0.553676           02:00     \n",
      "20        35.230621   40.664417   0.537323           02:00     \n",
      "21        35.654442   39.610439   0.537196           02:01     \n",
      "22        34.109169   40.003815   0.515946           02:00     \n",
      "23        33.436031   40.082520   0.552148           02:00     \n",
      "24        33.838837   40.050274   0.555386           02:00     \n",
      "25        32.819134   39.143475   0.542162           02:00     \n",
      "26        34.847023   39.346786   0.555778           01:59     \n",
      "27        32.996758   39.731724   0.512617           02:01     \n",
      "28        32.318218   38.398071   0.557822           02:00     \n",
      "29        33.159245   39.446186   0.514581           02:00     \n",
      "30        34.918121   38.362835   0.556506           02:00     \n",
      "31        33.475204   38.309307   0.554324           01:59     \n",
      "32        31.797880   37.080288   0.563589           02:00     \n",
      "33        30.904116   37.935024   0.536980           01:59     \n",
      "34        33.536476   37.679974   0.552116           01:59     \n",
      "35        31.911848   36.964329   0.589172           01:59     \n",
      "36        30.985523   37.281548   0.580903           02:00     \n",
      "37        32.343422   37.139969   0.585747           01:59     \n",
      "38        33.483730   36.942497   0.591667           01:58     \n",
      "39        31.590372   36.747650   0.575105           01:59     \n",
      "40        31.314426   36.400749   0.568119           01:59     \n",
      "41        31.233192   36.491940   0.570280           01:59     \n",
      "42        31.751320   36.480068   0.575748           01:58     \n",
      "43        30.833809   36.188053   0.563399           01:59     \n",
      "44        30.198067   35.965908   0.575454           01:59     \n",
      "45        30.943169   35.995636   0.575641           01:58     \n",
      "46        31.745453   35.993183   0.583669           01:58     \n",
      "47        30.061022   36.026375   0.579677           01:59     \n",
      "48        31.237604   35.936314   0.580676           02:00     \n",
      "49        30.889715   35.996613   0.577876           01:59     \n",
      "Computing model metrics...\n",
      "█\r"
     ]
    }
   ],
   "source": [
    "with arcpy.EnvManager(processorType=\"GPU\"):\n",
    "    arcpy.ia.TrainDeepLearningModel(\n",
    "        in_folder=r\"D:\\Users\\aflack\\Prog_for_GIS_Assignment08\\Palm_Tree_Detection\\Kolovai\\imagechips\",\n",
    "        out_folder=r\"D:\\Users\\aflack\\Prog_for_GIS_Assignment08\\Palm_Tree_Detection\\Kolovai\\classify_palms\",\n",
    "        max_epochs=50,\n",
    "        model_type=\"SSD\",\n",
    "        batch_size=8,\n",
    "        arguments=\"grids #;zooms 1.0;ratios '[1.0, 1.0]';chip_size 224;resize_to #;monitor valid_loss\",\n",
    "        learning_rate=None,\n",
    "        backbone_model=\"RESNET34\",\n",
    "        pretrained_model=None,\n",
    "        validation_percentage=10,\n",
    "        stop_training=\"CONTINUE_TRAINING\",\n",
    "        freeze=\"FREEZE_MODEL\"\n",
    "    )\n"
   ]
  },
  {
   "cell_type": "markdown",
   "metadata": {},
   "source": [
    "### Detect Objects Using Deep Learning"
   ]
  },
  {
   "cell_type": "markdown",
   "metadata": {},
   "source": [
    "##### The first of these is just a test of the parameters on a smaller processing extent, the 'detection area' bookmarked area. Once the parameters are set properly and detection seems to be working well, the tool will be run over the full image."
   ]
  },
  {
   "cell_type": "code",
   "execution_count": 1,
   "metadata": {},
   "outputs": [
    {
     "name": "stderr",
     "output_type": "stream",
     "text": [
      "AttributeError: 'ArcGISObjectDetector' object has no attribute 'updatePixels'\n"
     ]
    },
    {
     "ename": "AttributeError",
     "evalue": "ResultObject: Get attribute save not found",
     "output_type": "error",
     "traceback": [
      "\u001b[0;31m---------------------------------------------------------------------------\u001b[0m\n\u001b[0;31mAttributeError\u001b[0m                            Traceback (most recent call last)",
      "In  \u001b[0;34m[1]\u001b[0m:\nLine \u001b[0;34m13\u001b[0m:    out_classified_raster.save(\u001b[34mNone\u001b[39;49;00m)\n",
      "\u001b[0;31mAttributeError\u001b[0m: ResultObject: Get attribute save not found\n\u001b[0;31m---------------------------------------------------------------------------\u001b[0m"
     ]
    }
   ],
   "source": [
    "with arcpy.EnvManager(extent='-19519373.1570595 -2403692.99550326 -19519228.2616025 -2403572.24928915 PROJCS[\"unnamed_ellipse_Mercator_2SP\",GEOGCS[\"GCS_unnamed_ellipse\",DATUM[\"D_unknown\",SPHEROID[\"Unknown\",6378137.0,0.0]],PRIMEM[\"Greenwich\",0.0],UNIT[\"Degree\",0.0174532925199433]],PROJECTION[\"Mercator_2SP\"],PARAMETER[\"false_easting\",0.0],PARAMETER[\"false_northing\",0.0],PARAMETER[\"central_meridian\",0.0],PARAMETER[\"standard_parallel_1\",0.0],UNIT[\"Meter\",1.0]]', cellSize=\"5b1b6fb2-5024-4681-a175-9b667174f48c.tif\", processorType=\"GPU\"):\n",
    "    out_classified_raster = arcpy.ia.DetectObjectsUsingDeepLearning(\n",
    "        in_raster=\"5b1b6fb2-5024-4681-a175-9b667174f48c.tif\",\n",
    "        out_detected_objects=r\"D:\\Users\\aflack\\Prog_for_GIS_Assignment08\\Palm_Tree_Detection\\Kolovai\\Kolovai.gdb\\DetectedPalms\",\n",
    "        in_model_definition=r\"D:\\Users\\aflack\\Prog_for_GIS_Assignment08\\Palm_Tree_Detection\\Kolovai\\classify_palms\\classify_palms.dlpk\",\n",
    "        arguments=\"threshold 0.2;nms_overlap 0.1;batch_size 8\",\n",
    "        run_nms=\"NO_NMS\",\n",
    "        confidence_score_field=\"Confidence\",\n",
    "        class_value_field=\"Class\",\n",
    "        max_overlap_ratio=0,\n",
    "        processing_mode=\"PROCESS_AS_MOSAICKED_IMAGE\"\n",
    "    )\n",
    "out_classified_raster.save(None)"
   ]
  },
  {
   "cell_type": "markdown",
   "metadata": {},
   "source": [
    "The error above is small, and for a single line of code - the tool still ran properly, and the output worked as desired."
   ]
  },
  {
   "cell_type": "markdown",
   "metadata": {},
   "source": [
    "### Non Maximum Suppression"
   ]
  },
  {
   "cell_type": "markdown",
   "metadata": {},
   "source": [
    "The purpose of this tool is to change the overlap parameters in order to better map and represent the palm trees wtih the deep learning object detection."
   ]
  },
  {
   "cell_type": "code",
   "execution_count": 2,
   "metadata": {},
   "outputs": [
    {
     "data": {
      "text/html": [
       "<div class='gpresult'><h2>Messages</h2><div id='messages' data-messages='[\"Start Time: Thursday, April 13, 2023 9:05:59 AM\",\"Succeeded at Thursday, April 13, 2023 9:06:00 AM (Elapsed Time: 1.05 seconds)\"]' data-show='true'><div id = 'default' /></div></div>"
      ],
      "text/plain": [
       "<geoprocessing server result object object at 0x0000024211ACCE10>"
      ]
     },
     "execution_count": 2,
     "metadata": {},
     "output_type": "execute_result"
    }
   ],
   "source": [
    "arcpy.ia.NonMaximumSuppression(\n",
    "    in_featureclass=\"DetectedPalms\",\n",
    "    confidence_score_field=\"Confidence\",\n",
    "    out_featureclass=r\"D:\\Users\\aflack\\Prog_for_GIS_Assignment08\\Palm_Tree_Detection\\Kolovai\\Kolovai.gdb\\DetectedPalms_NMS\",\n",
    "    class_value_field=\"Class\",\n",
    "    max_overlap_ratio=0.5\n",
    ")"
   ]
  },
  {
   "cell_type": "code",
   "execution_count": null,
   "metadata": {},
   "outputs": [],
   "source": [
    "from arcgis.gis import GIS\n",
    "from arcgis.features import SpatialDataFrame\n",
    "gis = GIS(url, user, password)\n",
    "sdf = SpatialDataFrame.from_featureclass(r\"\")\n",
    "map1 = gis.map() #local region can be added in parentheses\n",
    "map1\n",
    "sdf.plot(kind='map', map_widget= map1)‍‍‍‍‍‍‍‍‍‍‍‍‍‍‍‍‍‍‍‍‍‍‍‍‍‍‍‍‍‍‍‍‍‍‍‍‍"
   ]
  },
  {
   "cell_type": "markdown",
   "metadata": {},
   "source": [
    "## Estimating Vegetation Health"
   ]
  },
  {
   "cell_type": "markdown",
   "metadata": {},
   "source": [
    "### Calculating VARI and Extracting VARI to Coconut Palms"
   ]
  },
  {
   "cell_type": "markdown",
   "metadata": {},
   "source": [
    "The first step in this process is calcualting the VARI - however, this is done with the 'ratser functions', and is not a geoprocessing tool. After I calculated the VARI, we can use it to create points of coconut palms."
   ]
  },
  {
   "cell_type": "markdown",
   "metadata": {},
   "source": [
    "### Feature to Point - Palm Tree Points"
   ]
  },
  {
   "cell_type": "code",
   "execution_count": 3,
   "metadata": {},
   "outputs": [
    {
     "data": {
      "text/html": [
       "<div class='gpresult'><h2>Messages</h2><div id='messages' data-messages='[\"Start Time: Thursday, April 13, 2023 9:25:41 AM\",\"Succeeded at Thursday, April 13, 2023 9:25:41 AM (Elapsed Time: 0.78 seconds)\"]' data-show='true'><div id = 'default' /></div></div>"
      ],
      "text/plain": [
       "<Result 'D:\\\\Users\\\\aflack\\\\Prog_for_GIS_Assignment08\\\\Palm_Tree_Detection\\\\Kolovai\\\\Kolovai.gdb\\\\PalmTree_Points'>"
      ]
     },
     "execution_count": 3,
     "metadata": {},
     "output_type": "execute_result"
    }
   ],
   "source": [
    "arcpy.management.FeatureToPoint(\n",
    "    in_features=\"Detected Palm Trees\",\n",
    "    out_feature_class=r\"D:\\Users\\aflack\\Prog_for_GIS_Assignment08\\Palm_Tree_Detection\\Kolovai\\Kolovai.gdb\\PalmTree_Points\",\n",
    "    point_location=\"CENTROID\"\n",
    ")"
   ]
  },
  {
   "cell_type": "markdown",
   "metadata": {},
   "source": [
    "### Buffering the Palm Tree Points"
   ]
  },
  {
   "cell_type": "code",
   "execution_count": 4,
   "metadata": {},
   "outputs": [
    {
     "data": {
      "text/html": [
       "<div class='gpresult'><h2>Messages</h2><div id='messages' data-messages='[\"Start Time: Thursday, April 13, 2023 9:30:29 AM\",\"Succeeded at Thursday, April 13, 2023 9:30:29 AM (Elapsed Time: 0.82 seconds)\"]' data-show='true'><div id = 'default' /></div></div>"
      ],
      "text/plain": [
       "<Result 'D:\\\\Users\\\\aflack\\\\Prog_for_GIS_Assignment08\\\\Palm_Tree_Detection\\\\Kolovai\\\\Kolovai.gdb\\\\PalmTree_Buffer'>"
      ]
     },
     "execution_count": 4,
     "metadata": {},
     "output_type": "execute_result"
    }
   ],
   "source": [
    "arcpy.analysis.PairwiseBuffer(\n",
    "    in_features=\"PalmTree_Points\",\n",
    "    out_feature_class=r\"D:\\Users\\aflack\\Prog_for_GIS_Assignment08\\Palm_Tree_Detection\\Kolovai\\Kolovai.gdb\\PalmTree_Buffer\",\n",
    "    buffer_distance_or_field=\"3 Meters\",\n",
    "    dissolve_option=\"NONE\",\n",
    "    dissolve_field=None,\n",
    "    method=\"PLANAR\",\n",
    "    max_deviation=\"0 Meters\"\n",
    ")"
   ]
  },
  {
   "cell_type": "markdown",
   "metadata": {},
   "source": [
    "### Zonal Statistics as Table"
   ]
  },
  {
   "cell_type": "markdown",
   "metadata": {},
   "source": [
    "In this scenario, Zonal Statistics as Table is summarizing the VARI raster (showing vegetation health) throughout the buffers."
   ]
  },
  {
   "cell_type": "code",
   "execution_count": 5,
   "metadata": {},
   "outputs": [
    {
     "data": {
      "text/html": [
       "<div class='gpresult'><h2>Messages</h2><div id='messages' data-messages='[\"Start Time: Thursday, April 13, 2023 9:45:04 AM\",\"Value raster being used as snap raster; this is new default behavior.\",\"Succeeded at Thursday, April 13, 2023 9:45:05 AM (Elapsed Time: 1.19 seconds)\"]' data-show='true'><div id = 'default' /></div></div>"
      ],
      "text/plain": [
       "<geoprocessing server result object object at 0x0000024226399690>"
      ]
     },
     "execution_count": 5,
     "metadata": {},
     "output_type": "execute_result"
    }
   ],
   "source": [
    "arcpy.ia.ZonalStatisticsAsTable(\n",
    "    in_zone_data=\"PalmTree_Buffer\",\n",
    "    zone_field=\"ORIG_FID\",\n",
    "    in_value_raster=\"VARI\",\n",
    "    out_table=r\"D:\\Users\\aflack\\Prog_for_GIS_Assignment08\\Palm_Tree_Detection\\Kolovai\\Kolovai.gdb\\MeanVARI_per_Palm\",\n",
    "    ignore_nodata=\"DATA\",\n",
    "    statistics_type=\"MEAN\",\n",
    "    process_as_multidimensional=\"CURRENT_SLICE\",\n",
    "    percentile_values=90,\n",
    "    percentile_interpolation_type=\"AUTO_DETECT\",\n",
    "    circular_calculation=\"ARITHMETIC\",\n",
    "    circular_wrap_value=360\n",
    ")"
   ]
  },
  {
   "cell_type": "markdown",
   "metadata": {},
   "source": [
    "### Joining the Field"
   ]
  },
  {
   "cell_type": "markdown",
   "metadata": {},
   "source": [
    "Then, we can simply use 'Join Field' to get the data from the Zonal Statistics as Table back into the Buffer layer."
   ]
  },
  {
   "cell_type": "code",
   "execution_count": 6,
   "metadata": {},
   "outputs": [
    {
     "data": {
      "text/html": [
       "<div class='gpresult'><h2>Messages</h2><div id='messages' data-messages='[\"Start Time: Thursday, April 13, 2023 9:47:18 AM\",\"Succeeded at Thursday, April 13, 2023 9:47:19 AM (Elapsed Time: 1.00 seconds)\"]' data-show='true'><div id = 'default' /></div></div>"
      ],
      "text/plain": [
       "<Result 'PalmTree_Buffer'>"
      ]
     },
     "execution_count": 6,
     "metadata": {},
     "output_type": "execute_result"
    }
   ],
   "source": [
    "arcpy.management.JoinField(\n",
    "    in_data=\"PalmTree_Buffer\",\n",
    "    in_field=\"ORIG_FID\",\n",
    "    join_table=\"MeanVARI_per_Palm\",\n",
    "    join_field=\"ORIG_FID\",\n",
    "    fields=\"MEAN\",\n",
    "    fm_option=\"NOT_USE_FM\",\n",
    "    field_mapping=None\n",
    ")"
   ]
  },
  {
   "cell_type": "markdown",
   "metadata": {},
   "source": [
    "#### From here, the data can just be symbolized under the symbology tab."
   ]
  },
  {
   "cell_type": "code",
   "execution_count": null,
   "metadata": {},
   "outputs": [],
   "source": []
  }
 ],
 "metadata": {
  "kernelspec": {
   "display_name": "Python 3 (ipykernel)",
   "language": "python",
   "name": "python3"
  },
  "language_info": {
   "codemirror_mode": {
    "name": "ipython",
    "version": 3
   },
   "file_extension": ".py",
   "mimetype": "text/x-python",
   "name": "python",
   "nbconvert_exporter": "python",
   "pygments_lexer": "ipython3",
   "version": "3.9.0"
  }
 },
 "nbformat": 4,
 "nbformat_minor": 2
}
